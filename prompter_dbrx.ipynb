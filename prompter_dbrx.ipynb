{
 "cells": [
  {
   "cell_type": "code",
   "execution_count": 5,
   "metadata": {},
   "outputs": [],
   "source": [
    "from openai import OpenAI\n",
    "from dotenv import load_dotenv\n",
    "import os"
   ]
  },
  {
   "cell_type": "code",
   "execution_count": 6,
   "metadata": {},
   "outputs": [],
   "source": [
    "load_dotenv()\n",
    "# Create an OpenAI client with your deepinfra token and endpoint\n",
    "openai = OpenAI(\n",
    "    api_key=os.getenv('DBRX_API_KEY'),\n",
    "    base_url=\"https://api.deepinfra.com/v1/openai\",\n",
    ")"
   ]
  },
  {
   "cell_type": "code",
   "execution_count": 7,
   "metadata": {},
   "outputs": [],
   "source": [
    "def getResponse(prompt):\n",
    "  chat_completion = openai.chat.completions.create(\n",
    "    model=\"databricks/dbrx-instruct\",\n",
    "    messages=[{\"role\": \"user\", \"content\": prompt}],\n",
    "  )\n",
    "\n",
    "  return chat_completion.choices[0].message.content"
   ]
  },
  {
   "cell_type": "code",
   "execution_count": 14,
   "metadata": {},
   "outputs": [],
   "source": [
    "def generatePrompt(question):\n",
    "  return question+\"Explain your answer in detailed steps. Your final answer should be of the form: SQL: <query>\""
   ]
  },
  {
   "cell_type": "code",
   "execution_count": 9,
   "metadata": {},
   "outputs": [
    {
     "name": "stdout",
     "output_type": "stream",
     "text": [
      "Sure, I'd be happy to help! However, please note that I can only generate SQL queries based on the schema you provided, and I can't actually execute them or see the results.\n",
      "\n",
      "Here's an example of how I might generate an SQL query based on the schema you provided:\n",
      "\n",
      "Question: What is the name and population of the cities in the state of California?\n",
      "\n",
      "SQL Query:\n",
      "```sql\n",
      "SELECT city_name, population\n",
      "FROM city\n",
      "WHERE state_name = 'California';\n",
      "```\n",
      "Explanation:\n",
      "\n",
      "* The `city` table contains the information we're interested in, so we start the query with `SELECT` and specify the columns we want to retrieve (`city_name` and `population`).\n",
      "* We then specify the `city` table using the `FROM` keyword.\n",
      "* Finally, we use a `WHERE` clause to filter the results to only include cities in the state of California.\n",
      "\n",
      "Of course, this is just one example, and the specific SQL query will depend on the question you have in mind. Let me know what your question is, and I'll generate the corresponding SQL query for you!\n"
     ]
    }
   ],
   "source": [
    "schema_string = \"\"\n",
    "with open('geo.schema', 'r') as file:\n",
    "  schema_string = file.read()\n",
    "initial_prompt = \"here's the schema of a database. explain it to me.\" + schema_string + \"now based on this schema, I have a database. I will give you a question and you have to generate the corresponding SQL query (a single query) that'll give me my required answer, considering this schema.\""
   ]
  },
  {
   "cell_type": "code",
   "execution_count": 15,
   "metadata": {},
   "outputs": [],
   "source": [
    "with open('newdata/geo_dev.nl', 'r') as file:\n",
    "  with open('newdata/geo_dev_dbrx.sql', 'w') as write_file:\n",
    "    for line in file:\n",
    "      prompt = generatePrompt(line.strip())\n",
    "      response = getResponse(initial_prompt+prompt)\n",
    "      write_file.write(response)"
   ]
  }
 ],
 "metadata": {
  "kernelspec": {
   "display_name": "Python 3",
   "language": "python",
   "name": "python3"
  },
  "language_info": {
   "codemirror_mode": {
    "name": "ipython",
    "version": 3
   },
   "file_extension": ".py",
   "mimetype": "text/x-python",
   "name": "python",
   "nbconvert_exporter": "python",
   "pygments_lexer": "ipython3",
   "version": "3.9.5"
  }
 },
 "nbformat": 4,
 "nbformat_minor": 2
}
