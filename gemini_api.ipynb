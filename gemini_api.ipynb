{
 "cells": [
  {
   "cell_type": "code",
   "execution_count": 15,
   "metadata": {},
   "outputs": [],
   "source": [
    "import pathlib\n",
    "import textwrap\n",
    "import os\n",
    "from dotenv import load_dotenv\n",
    "\n",
    "\n",
    "import google.generativeai as genai\n",
    "\n",
    "from IPython.display import display\n",
    "from IPython.display import Markdown\n",
    "\n"
   ]
  },
  {
   "cell_type": "code",
   "execution_count": 16,
   "metadata": {},
   "outputs": [],
   "source": [
    "\n",
    "def to_markdown(text):\n",
    "  text = text.replace('•', '  *')\n",
    "  return Markdown(textwrap.indent(text, '> ', predicate=lambda _: True))\n",
    "\n"
   ]
  },
  {
   "cell_type": "code",
   "execution_count": 20,
   "metadata": {},
   "outputs": [],
   "source": [
    "load_dotenv()\n",
    "api_key=os.getenv('GEMINI_API_KEY')\n",
    "genai.configure(api_key=api_key)\n",
    "\n",
    "# for m in genai.list_models():\n",
    "#   if 'generateContent' in m.supported_generation_methods:\n",
    "#     print(m.name)\n",
    "\n",
    "model = genai.GenerativeModel('gemini-1.5-pro-latest')\n",
    "\n"
   ]
  },
  {
   "cell_type": "code",
   "execution_count": 18,
   "metadata": {},
   "outputs": [],
   "source": [
    "def response_from_prompt(prompt):\n",
    "    response = model.generate_content(prompt)\n",
    "    return to_markdown(response.text)"
   ]
  },
  {
   "cell_type": "code",
   "execution_count": 19,
   "metadata": {},
   "outputs": [
    {
     "data": {
      "text/markdown": [
       "> ## Understanding Aadi's Relationship Status\n",
       "> \n",
       "> Unfortunately, with the information available to me, I cannot definitively answer why Aadi does not have a girlfriend. There could be many reasons, and without more context, it's impossible to pinpoint the exact cause. \n",
       "> \n",
       "> Here are some possible explanations:\n",
       "> \n",
       "> **Personal Choice:**\n",
       "> \n",
       "> * **Focus on other aspects of life:** Aadi might be prioritizing his education, career, hobbies, or personal development. \n",
       "> * **Enjoying single life:** He could simply be content with being single and enjoying the freedom and independence it brings.\n",
       "> * **Not interested in romantic relationships:**  Some people are aromantic or asexual, meaning they experience little to no romantic or sexual attraction.\n",
       "> \n",
       "> **External Factors:**\n",
       "> \n",
       "> * **Limited social opportunities:** Aadi's environment or lifestyle might not provide many chances to meet potential partners. \n",
       "> * **Shyness or social anxiety:** He might find it difficult to put himself out there and connect with new people.\n",
       "> * **Past experiences:** Negative past relationships could make him hesitant to get involved again.\n",
       "> \n",
       "> **Other Possibilities:**\n",
       "> \n",
       "> * **He might be secretly dating someone.**\n",
       "> * **He could be actively searching for a partner but hasn't found the right person yet.** \n",
       "> \n",
       "> Ultimately, the reason why Aadi doesn't have a girlfriend is personal and can only be fully understood by him.\n"
      ],
      "text/plain": [
       "<IPython.core.display.Markdown object>"
      ]
     },
     "execution_count": 19,
     "metadata": {},
     "output_type": "execute_result"
    }
   ],
   "source": [
    "response_from_prompt('Why aadi does not have a girlfriend?')"
   ]
  }
 ],
 "metadata": {
  "kernelspec": {
   "display_name": "Python 3",
   "language": "python",
   "name": "python3"
  },
  "language_info": {
   "codemirror_mode": {
    "name": "ipython",
    "version": 3
   },
   "file_extension": ".py",
   "mimetype": "text/x-python",
   "name": "python",
   "nbconvert_exporter": "python",
   "pygments_lexer": "ipython3",
   "version": "3.11.4"
  }
 },
 "nbformat": 4,
 "nbformat_minor": 2
}
